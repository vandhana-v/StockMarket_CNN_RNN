{
 "cells": [
  {
   "cell_type": "markdown",
   "metadata": {},
   "source": [
    "# DEEP LEARNING IN FINANCE"
   ]
  },
  {
   "cell_type": "markdown",
   "metadata": {},
   "source": [
    "Finance is a very complex and computationally intensive domain with huge data.\n",
    "The existing machine learning models used like supervised, unsupervised etc suffers from many problems such as overfitting, poor\n",
    "accuracy due to its data complexity and non-linearity in its factors.\n",
    "\n",
    "So, for efficient model building, deep learning models are used in the finance field owing to its capability to\n",
    "learn from large unlabelled data, recurrent models, image recognition, non-linear models etc."
   ]
  },
  {
   "cell_type": "markdown",
   "metadata": {},
   "source": [
    "## Use cases of Deep Learning in Finance"
   ]
  },
  {
   "cell_type": "markdown",
   "metadata": {},
   "source": [
    "#### 1. Pricing :\n",
    "        Fixing or deciding prices.\n",
    "#### 2. Portfolio Construction :\n",
    "       Process of selecting the optimum mix of securities for the purpose of achieving maximum returns by taking minimum risk. A portfolio is a combination of various securities such as stocks, bonds and money market instruments.\n",
    "#### 3. Risk Management\n",
    "#### 4. High frequency trading"
   ]
  },
  {
   "cell_type": "markdown",
   "metadata": {},
   "source": [
    "## Stock Prediction of TATA dataset"
   ]
  },
  {
   "cell_type": "markdown",
   "metadata": {},
   "source": [
    "The TATA stock dataset is taken for this use case discussion \n",
    "\n",
    "#### Objective - Checking if closing prices of stocks will be increasing or decreasing.\n",
    "\n",
    "The dataset contains multiple variables – Date, Open, High, Low, Last, Close, Total_Trade_Quantity, and Turnover.\n",
    "\n",
    " Open  - The starting price at which the stock is traded on a particular day.\n",
    " \n",
    " Close - The final price at which the stock is traded on a particular day.\n",
    " \n",
    " High  - The maximum price of the share for the day.\n",
    " \n",
    " Low   - The minimum price of the share for the day.\n",
    " \n",
    " Last  - The last price of the share for the day.\n",
    " \n",
    "Total Trade Quantity - Number of shares bought or sold in the day.\n",
    "\n",
    "Turnover (Lacs) - Turnover of the particular company on a given date."
   ]
  },
  {
   "cell_type": "markdown",
   "metadata": {},
   "source": [
    "## Convolution Neural Network"
   ]
  },
  {
   "cell_type": "markdown",
   "metadata": {},
   "source": [
    "Convolution Neural Networks, are made up of neurons with weights and biases. \n",
    "Each neuron receives several inputs, takes a weighted sum over them, pass it through an activation function and \n",
    "responds with an output. They also have a loss function and optimization functions used while back propogation.\n",
    "\n",
    "### Architecture of CNN:\n",
    "\n",
    "1. Convolution Layer - Main building block of a convolutional neural network. It has independent filters to extract\n",
    " features from the data.\n",
    "    \n",
    "2. Pooling layer - Responsible for reducing the size of the Convolved Feature. \n",
    "Pooling Technique Used - Max Pooling returns the maximum value from the portion of the data.\n",
    "\n",
    "3. Fully Connected Layer - The FC is the fully connected layer of neurons at the end of CNN. \n",
    "Neurons in a fully connected layer have full connections to all activations in the previous layer"
   ]
  },
  {
   "cell_type": "markdown",
   "metadata": {},
   "source": [
    "## Stock Prediction using Convolution Neural Network"
   ]
  },
  {
   "cell_type": "markdown",
   "metadata": {},
   "source": [
    "Stock prediction is a Time Series problem where the data includes a time series component and future values will be\n",
    "predicted based on observed values.\n",
    "\n",
    "Stock prediction is a univariate dataset having one dimensional data instead of traditional two dimensional \n",
    "data(image classification).\n",
    "\n",
    "So, we can construct Univariate CNN model and predict the future outcomes of the stock."
   ]
  },
  {
   "cell_type": "markdown",
   "metadata": {},
   "source": [
    "### Importing libraries"
   ]
  },
  {
   "cell_type": "code",
   "execution_count": 140,
   "metadata": {},
   "outputs": [],
   "source": [
    "import pandas as pd\n",
    "import numpy as np\n",
    "import matplotlib.pyplot as plt\n",
    "%matplotlib inline\n",
    "from keras.layers import Dense, Dropout\n",
    "from keras.layers import Embedding\n",
    "from keras.layers import Conv1D, GlobalAveragePooling1D, MaxPooling1D\n",
    "from numpy import array\n",
    "from keras.layers import Dense\n",
    "from keras.layers import Flatten\n",
    "from sklearn.preprocessing import MinMaxScaler\n",
    "from keras.models import Sequential\n",
    "import logging"
   ]
  },
  {
   "cell_type": "markdown",
   "metadata": {},
   "source": [
    "### Logging"
   ]
  },
  {
   "cell_type": "code",
   "execution_count": 141,
   "metadata": {},
   "outputs": [],
   "source": [
    "logging.basicConfig(filename=\"stock_prediction.log\", \n",
    "                    format='%(asctime)s %(message)s', \n",
    "                    filemode='w') \n",
    "logger=logging.getLogger() \n",
    "  \n",
    "logger.setLevel(logging.DEBUG)\n"
   ]
  },
  {
   "cell_type": "markdown",
   "metadata": {},
   "source": [
    "### Reading the dataset with Exception Handling"
   ]
  },
  {
   "cell_type": "code",
   "execution_count": 142,
   "metadata": {},
   "outputs": [
    {
     "name": "stdout",
     "output_type": "stream",
     "text": [
      "         Date    Open    High     Low    Last   Close  Total Trade Quantity  \\\n",
      "0  2018-09-28  234.05  235.95  230.20  233.50  233.75               3069914   \n",
      "1  2018-09-27  234.55  236.80  231.10  233.80  233.25               5082859   \n",
      "2  2018-09-26  240.00  240.00  232.50  235.00  234.25               2240909   \n",
      "3  2018-09-25  233.30  236.75  232.00  236.25  236.10               2349368   \n",
      "4  2018-09-24  233.55  239.20  230.75  234.00  233.30               3423509   \n",
      "\n",
      "   Turnover (Lacs)  \n",
      "0          7162.35  \n",
      "1         11859.95  \n",
      "2          5248.60  \n",
      "3          5503.90  \n",
      "4          7999.55  \n"
     ]
    }
   ],
   "source": [
    "logger.info('--------STOCK PREDICTION USING CONVOLUTION NEURAL NETWORK---------')\n",
    "try:\n",
    "    df = pd.read_csv('NSE-TATAGLOBAL.csv')\n",
    "    logger.info('TATA Stock Dataset read')\n",
    "    print(df.head())\n",
    "except IOError as e:\n",
    "    print('File cannot be read')\n",
    "    logger.info('File cannot be read')\n"
   ]
  },
  {
   "cell_type": "code",
   "execution_count": 143,
   "metadata": {},
   "outputs": [
    {
     "data": {
      "text/plain": [
       "(2035, 8)"
      ]
     },
     "execution_count": 143,
     "metadata": {},
     "output_type": "execute_result"
    }
   ],
   "source": [
    "df.shape"
   ]
  },
  {
   "cell_type": "markdown",
   "metadata": {},
   "source": [
    "### Features to consider:\n",
    "\n",
    "Closing price is normally considered for determining profit and loss calculation. \n",
    "#### Close - feature will be considered for our model"
   ]
  },
  {
   "cell_type": "markdown",
   "metadata": {},
   "source": [
    "## Close variable plot distribution\n",
    "\n",
    "### 'Date' vs 'Close'"
   ]
  },
  {
   "cell_type": "code",
   "execution_count": 144,
   "metadata": {},
   "outputs": [
    {
     "data": {
      "image/png": "[encoded data removed]",
      "text/plain": [
       "<Figure size 1152x576 with 1 Axes>"
      ]
     },
     "metadata": {
      "needs_background": "light"
     },
     "output_type": "display_data"
    }
   ],
   "source": [
    "df['Date'] = pd.to_datetime(df.Date,format='%Y-%m-%d')\n",
    "df.index = df['Date']\n",
    "#print(df.head(5))\n",
    "plt.figure(figsize=(16,8))\n",
    "plt.plot(df['Close'], label='Close Price')\n",
    "logger.info(\"Data visualised with matplotlib 'Date' vs 'Close'\")"
   ]
  },
  {
   "cell_type": "markdown",
   "metadata": {},
   "source": [
    "#### Observation:\n",
    "\n",
    "We can observe a trend in the dataset. We see the stock price increase with year."
   ]
  },
  {
   "cell_type": "markdown",
   "metadata": {},
   "source": [
    "### Creating new dataframe with 'Date' and 'Close' columns"
   ]
  },
  {
   "cell_type": "code",
   "execution_count": 145,
   "metadata": {},
   "outputs": [],
   "source": [
    "# Sorting the dataframe w.r.t Date \n",
    "data = df.sort_index(ascending=True, axis=0)\n",
    "new_data = pd.DataFrame(index=range(0,len(df)),columns=['Date', 'Close'])\n",
    "for i in range(0,len(data)):\n",
    "    new_data['Date'][i] = data['Date'][i]\n",
    "    new_data['Close'][i] = data['Close'][i]\n",
    "    \n",
    "new_data.head(5)\n",
    "logger.info(\"New Dataframe created with 'Date' and 'Close' features\")"
   ]
  },
  {
   "cell_type": "code",
   "execution_count": 146,
   "metadata": {},
   "outputs": [
    {
     "data": {
      "text/html": [
       "<div>\n",
       "<style scoped>\n",
       "    .dataframe tbody tr th:only-of-type {\n",
       "        vertical-align: middle;\n",
       "    }\n",
       "\n",
       "    .dataframe tbody tr th {\n",
       "        vertical-align: top;\n",
       "    }\n",
       "\n",
       "    .dataframe thead th {\n",
       "        text-align: right;\n",
       "    }\n",
       "</style>\n",
       "<table border=\"1\" class=\"dataframe\">\n",
       "  <thead>\n",
       "    <tr style=\"text-align: right;\">\n",
       "      <th></th>\n",
       "      <th>Close</th>\n",
       "    </tr>\n",
       "    <tr>\n",
       "      <th>Date</th>\n",
       "      <th></th>\n",
       "    </tr>\n",
       "  </thead>\n",
       "  <tbody>\n",
       "    <tr>\n",
       "      <th>2010-07-21</th>\n",
       "      <td>121.55</td>\n",
       "    </tr>\n",
       "    <tr>\n",
       "      <th>2010-07-22</th>\n",
       "      <td>120.9</td>\n",
       "    </tr>\n",
       "    <tr>\n",
       "      <th>2010-07-23</th>\n",
       "      <td>120.65</td>\n",
       "    </tr>\n",
       "    <tr>\n",
       "      <th>2010-07-26</th>\n",
       "      <td>117.6</td>\n",
       "    </tr>\n",
       "    <tr>\n",
       "      <th>2010-07-27</th>\n",
       "      <td>118.65</td>\n",
       "    </tr>\n",
       "  </tbody>\n",
       "</table>\n",
       "</div>"
      ],
      "text/plain": [
       "             Close\n",
       "Date              \n",
       "2010-07-21  121.55\n",
       "2010-07-22   120.9\n",
       "2010-07-23  120.65\n",
       "2010-07-26   117.6\n",
       "2010-07-27  118.65"
      ]
     },
     "execution_count": 146,
     "metadata": {},
     "output_type": "execute_result"
    }
   ],
   "source": [
    "# Setting Date as the index\n",
    "new_data.index = new_data.Date\n",
    "new_data.drop('Date', axis=1, inplace=True)\n",
    "new_data.head(5)\n"
   ]
  },
  {
   "cell_type": "markdown",
   "metadata": {},
   "source": [
    "### Data Preparation\n",
    "For data preparation, sequence of observations must be divided into multiple input/output patterns\n",
    "called samples, where multiple time steps are used as input and one time step is used as output for  prediction.\n",
    "\n",
    "The input to the model should have 3 parameters:\n",
    "\n",
    "1) Sample - One sequence is one sample. A batch is comprised of one or more samples.\n",
    "\n",
    "2) Time step - One time step is one point of observation in the sample.(timesteps = 60)\n",
    "\n",
    "3) Features - One feature is one observation at a time step(features = 1 since we have one dimensional data)"
   ]
  },
  {
   "cell_type": "code",
   "execution_count": 148,
   "metadata": {},
   "outputs": [],
   "source": [
    "logger.info('------DATA PREPARATION------')\n",
    "# Initialising features and timestep value\n",
    "features = 1\n",
    "t_steps  = 60\n",
    "logger.info('Features:%d, timesteps:%d',features,t_steps)"
   ]
  },
  {
   "cell_type": "code",
   "execution_count": 149,
   "metadata": {},
   "outputs": [],
   "source": [
    "train_set = new_data[:1600] # 80% of data\n",
    "valid = new_data[1600:]\n",
    "train_set.shape, valid.shape\n",
    "logger.info('Dataset split into train and test sets')"
   ]
  },
  {
   "cell_type": "code",
   "execution_count": 150,
   "metadata": {},
   "outputs": [],
   "source": [
    "train_set = np.array(train_set)"
   ]
  },
  {
   "cell_type": "markdown",
   "metadata": {},
   "source": [
    "#### Split function:\n",
    " The below function splits the dataset into multiple samples with 60 timesteps each.\n",
    "    \n",
    "Example: Consider a given univariate sequence:\n",
    "\n",
    "[10, 20, 30, 40, 50, 60, 70, 80, 90]\n",
    "\n",
    "We can divide the sequence into multiple input/output patterns called samples, where three time steps are used as input and one time step is used as output for the one-step prediction that is being learned.\n",
    "\n",
    "X,\t\t\t\ty\n",
    "10, 20, 30\t\t40\n",
    "20, 30, 40\t\t50\n",
    "30, 40, 50\t\t60\n"
   ]
  },
  {
   "cell_type": "code",
   "execution_count": 151,
   "metadata": {},
   "outputs": [],
   "source": [
    "def split_sequence(sequence, t_steps):\n",
    "    X, y = list(), list()\n",
    "    for i in range(len(sequence)):\n",
    "        end_ix = i + t_steps\n",
    "        if end_ix > len(sequence)-1:\n",
    "            break\n",
    "        seq_x, seq_y = sequence[i:end_ix], sequence[end_ix]\n",
    "        X.append(seq_x)\n",
    "        y.append(seq_y)\n",
    "    return array(X), array(y)\n",
    "\n",
    "X, y = split_sequence(train_set, t_steps)\n",
    "logger.info('Training data transformed into 3 dimensional input[samples, timesteps and features]')"
   ]
  },
  {
   "cell_type": "markdown",
   "metadata": {},
   "source": [
    "#### Reshaping the data into 3-dimensional input"
   ]
  },
  {
   "cell_type": "code",
   "execution_count": 152,
   "metadata": {},
   "outputs": [
    {
     "data": {
      "text/plain": [
       "(1540, 60, 1)"
      ]
     },
     "execution_count": 152,
     "metadata": {},
     "output_type": "execute_result"
    }
   ],
   "source": [
    "X = X.reshape((X.shape[0], X.shape[1], features))\n",
    "X.shape\n"
   ]
  },
  {
   "cell_type": "markdown",
   "metadata": {},
   "source": [
    "### Building CNN Model"
   ]
  },
  {
   "cell_type": "code",
   "execution_count": 153,
   "metadata": {},
   "outputs": [],
   "source": [
    "logger.info('---------BUILDING CONVOLUTION NEURAL NETWORK---------')\n",
    "model = Sequential()\n",
    "\n",
    "# First layer\n",
    "model.add(Conv1D(filters=64, kernel_size=2, activation='relu', input_shape=(t_steps, features)))\n",
    "model.add(MaxPooling1D(pool_size=2))\n",
    "model.add(Flatten())\n",
    "model.add(Dense(50, activation='relu'))\n",
    "model.add(Dense(1))\n"
   ]
  },
  {
   "cell_type": "markdown",
   "metadata": {},
   "source": [
    "### Parameters:\n",
    "\n",
    "#### 1) Conv1D Layer -\n",
    "This is a convolution layer that creates a convolution kernel that is convolved with the layer input over \n",
    "a single dimension to produce a tensor of outputs.\n",
    "\n",
    "   #### Arguments:\n",
    "    1. filters:  the number of output filters in the convolution.\n",
    "    2. kernel_size: An integer, specifying the length of the 1D convolution window. \n",
    "    3. activation: Activation function to use.\n",
    "       Rectified Linear Unit -ReLU is linear (identity) for all positive values, and zero for all negative values.\n",
    "       Mathematically, it is defined as y = max(0, x).\n",
    "    \n",
    "#### 2) MaxPooling1D\n",
    "This is a pooling layer that does Max pooling operation for the data.\n",
    "\n",
    "   #### Arguments:\n",
    "\n",
    "    1. pool_size: Integer, size of the max pooling windows.\n",
    "\n",
    "#### 3) Flatten\n",
    "\n",
    "This is a core layer that flattens the input.\n",
    "\n",
    "#### 4) Dense\n",
    "\n",
    "This is a core layer that implements the operation: output = activation(dot(input, kernel) + bias) where activation is the element-wise activation function passed as the activation argument, kernel is a weights matrix created by the layer, and bias is a bias vector created by the layer\n",
    "\n",
    "   #### Arguments:\n",
    "\n",
    "        units: Positive integer, dimensionality of the output space."
   ]
  },
  {
   "cell_type": "markdown",
   "metadata": {},
   "source": [
    "### Model Optimisation and Loss function:\n",
    "\n",
    "#### 1) Optimisation function - \n",
    "\n",
    "#### Adam(Adaptive Moment Estimation)\n",
    "\n",
    "Adam is an adaptive learning rate method, which means, it computes individual learning rates for different parameters. Combination of RMSProp and AdaGrad functions.\n",
    "\n",
    " Adam uses estimations of first and second moments of gradient to adapt the learning rate for each weight of the neural network.N-th moment of a random variable is defined as the expected value of that variable to the power of n. More formally:\n",
    "                 m =E[X pow n]\n",
    "\n",
    "\n",
    "1. Adaptive Gradient Algorithm (AdaGrad) that maintains a per-parameter learning rate that improves performance on problems with sparse gradients (e.g. natural language and computer vision problems).\n",
    "\n",
    "2. Root Mean Square Propagation (RMSProp) that also maintains per-parameter learning rates that are adapted based on the average of recent magnitudes of the gradients for the weight (e.g. how quickly it is changing). This means the algorithm does well on online and non-stationary problems (e.g. noisy).\n",
    "\n",
    "Instead of adapting the parameter learning rates based on the average first moment as in RMSProp, Adam also makes use of the average of the second moments of the gradients.\n",
    "\n",
    "#### 2) Loss function - Mean Squared Error\n",
    "\n",
    "The mean squared error (MSE) measures the average of the squares of the errors — that is, the average squared difference \n",
    "\n"
   ]
  },
  {
   "cell_type": "code",
   "execution_count": 154,
   "metadata": {},
   "outputs": [],
   "source": [
    "logger.info('-------MODEL OPTIMISATION-------')\n",
    "model.compile(optimizer='adam', loss='mse')\n",
    "logger.info('Optimiser used is ADAM')\n",
    "logger.info('Loss metric is Mean Squared Error')"
   ]
  },
  {
   "cell_type": "markdown",
   "metadata": {},
   "source": [
    "### Building the model"
   ]
  },
  {
   "cell_type": "code",
   "execution_count": 155,
   "metadata": {},
   "outputs": [
    {
     "name": "stdout",
     "output_type": "stream",
     "text": [
      "Epoch 1/200\n",
      "1540/1540 [==============================] - 2s 1ms/step - loss: 1004.5272\n",
      "Epoch 2/200\n",
      "1540/1540 [==============================] - 0s 318us/step - loss: 104.5759\n",
      "Epoch 3/200\n",
      "1540/1540 [==============================] - 0s 324us/step - loss: 88.8979\n",
      "Epoch 4/200\n",
      "1540/1540 [==============================] - 0s 308us/step - loss: 81.0808\n",
      "Epoch 5/200\n",
      "1540/1540 [==============================] - 0s 320us/step - loss: 70.4621\n",
      "Epoch 6/200\n",
      "1540/1540 [==============================] - 0s 305us/step - loss: 62.6449\n",
      "Epoch 7/200\n",
      "1540/1540 [==============================] - 0s 299us/step - loss: 56.8059\n",
      "Epoch 8/200\n",
      "1540/1540 [==============================] - 0s 300us/step - loss: 54.5580\n",
      "Epoch 9/200\n",
      "1540/1540 [==============================] - 1s 326us/step - loss: 47.3410\n",
      "Epoch 10/200\n",
      "1540/1540 [==============================] - 0s 316us/step - loss: 48.4491\n",
      "Epoch 11/200\n",
      "1540/1540 [==============================] - 0s 304us/step - loss: 45.6722\n",
      "Epoch 12/200\n",
      "1540/1540 [==============================] - 0s 318us/step - loss: 45.8748\n",
      "Epoch 13/200\n",
      "1540/1540 [==============================] - 1s 341us/step - loss: 45.1630\n",
      "Epoch 14/200\n",
      "1540/1540 [==============================] - 1s 330us/step - loss: 46.5775\n",
      "Epoch 15/200\n",
      "1540/1540 [==============================] - 1s 348us/step - loss: 38.0899\n",
      "Epoch 16/200\n",
      "1540/1540 [==============================] - 1s 337us/step - loss: 36.8915\n",
      "Epoch 17/200\n",
      "1540/1540 [==============================] - 1s 380us/step - loss: 41.05160s - l\n",
      "Epoch 18/200\n",
      "1540/1540 [==============================] - 1s 343us/step - loss: 33.3377\n",
      "Epoch 19/200\n",
      "1540/1540 [==============================] - 1s 369us/step - loss: 39.8724\n",
      "Epoch 20/200\n",
      "1540/1540 [==============================] - 1s 371us/step - loss: 40.6094\n",
      "Epoch 21/200\n",
      "1540/1540 [==============================] - 1s 357us/step - loss: 33.4912\n",
      "Epoch 22/200\n",
      "1540/1540 [==============================] - 1s 336us/step - loss: 34.4309\n",
      "Epoch 23/200\n",
      "1540/1540 [==============================] - 1s 355us/step - loss: 33.6485\n",
      "Epoch 24/200\n",
      "1540/1540 [==============================] - 1s 334us/step - loss: 31.6502\n",
      "Epoch 25/200\n",
      "1540/1540 [==============================] - 1s 340us/step - loss: 35.4571\n",
      "Epoch 26/200\n",
      "1540/1540 [==============================] - 0s 304us/step - loss: 31.1000\n",
      "Epoch 27/200\n",
      "1540/1540 [==============================] - 0s 304us/step - loss: 27.5730\n",
      "Epoch 28/200\n",
      "1540/1540 [==============================] - 0s 311us/step - loss: 31.9814\n",
      "Epoch 29/200\n",
      "1540/1540 [==============================] - 0s 281us/step - loss: 31.0178\n",
      "Epoch 30/200\n",
      "1540/1540 [==============================] - 0s 266us/step - loss: 29.4696\n",
      "Epoch 31/200\n",
      "1540/1540 [==============================] - 0s 269us/step - loss: 36.4850\n",
      "Epoch 32/200\n",
      "1540/1540 [==============================] - 0s 265us/step - loss: 25.4552\n",
      "Epoch 33/200\n",
      "1540/1540 [==============================] - 0s 270us/step - loss: 27.7210\n",
      "Epoch 34/200\n",
      "1540/1540 [==============================] - 0s 265us/step - loss: 37.7226\n",
      "Epoch 35/200\n",
      "1540/1540 [==============================] - 0s 284us/step - loss: 24.8577\n",
      "Epoch 36/200\n",
      "1540/1540 [==============================] - 0s 278us/step - loss: 26.0547\n",
      "Epoch 37/200\n",
      "1540/1540 [==============================] - 0s 262us/step - loss: 40.1695\n",
      "Epoch 38/200\n",
      "1540/1540 [==============================] - 0s 293us/step - loss: 24.5730\n",
      "Epoch 39/200\n",
      "1540/1540 [==============================] - 0s 291us/step - loss: 24.7469\n",
      "Epoch 40/200\n",
      "1540/1540 [==============================] - 0s 263us/step - loss: 44.2987\n",
      "Epoch 41/200\n",
      "1540/1540 [==============================] - 0s 255us/step - loss: 24.2476\n",
      "Epoch 42/200\n",
      "1540/1540 [==============================] - 0s 262us/step - loss: 31.6577\n",
      "Epoch 43/200\n",
      "1540/1540 [==============================] - 0s 261us/step - loss: 26.58830s -\n",
      "Epoch 44/200\n",
      "1540/1540 [==============================] - 0s 261us/step - loss: 29.0471\n",
      "Epoch 45/200\n",
      "1540/1540 [==============================] - 0s 299us/step - loss: 30.3265\n",
      "Epoch 46/200\n",
      "1540/1540 [==============================] - 0s 304us/step - loss: 21.9670\n",
      "Epoch 47/200\n",
      "1540/1540 [==============================] - 0s 288us/step - loss: 27.3658\n",
      "Epoch 48/200\n",
      "1540/1540 [==============================] - 0s 306us/step - loss: 23.0860\n",
      "Epoch 49/200\n",
      "1540/1540 [==============================] - 1s 343us/step - loss: 25.4056\n",
      "Epoch 50/200\n",
      "1540/1540 [==============================] - 0s 315us/step - loss: 25.1680\n",
      "Epoch 51/200\n",
      "1540/1540 [==============================] - 1s 338us/step - loss: 25.3925\n",
      "Epoch 52/200\n",
      "1540/1540 [==============================] - 1s 339us/step - loss: 22.2650\n",
      "Epoch 53/200\n",
      "1540/1540 [==============================] - 1s 349us/step - loss: 24.8140\n",
      "Epoch 54/200\n",
      "1540/1540 [==============================] - 0s 315us/step - loss: 22.96690s - l\n",
      "Epoch 55/200\n",
      "1540/1540 [==============================] - 1s 336us/step - loss: 19.8412\n",
      "Epoch 56/200\n",
      "1540/1540 [==============================] - 1s 353us/step - loss: 21.8140\n",
      "Epoch 57/200\n",
      "1540/1540 [==============================] - 1s 340us/step - loss: 21.9479\n",
      "Epoch 58/200\n",
      "1540/1540 [==============================] - 0s 308us/step - loss: 20.7699\n",
      "Epoch 59/200\n",
      "1540/1540 [==============================] - 0s 308us/step - loss: 21.1055\n",
      "Epoch 60/200\n",
      "1540/1540 [==============================] - 0s 306us/step - loss: 19.9732\n",
      "Epoch 61/200\n",
      "1540/1540 [==============================] - 0s 310us/step - loss: 20.3692\n",
      "Epoch 62/200\n",
      "1540/1540 [==============================] - 0s 286us/step - loss: 22.2906\n",
      "Epoch 63/200\n",
      "1540/1540 [==============================] - 0s 286us/step - loss: 20.9819\n",
      "Epoch 64/200\n",
      "1540/1540 [==============================] - 0s 280us/step - loss: 23.3173\n",
      "Epoch 65/200\n",
      "1540/1540 [==============================] - 0s 282us/step - loss: 24.2115\n",
      "Epoch 66/200\n",
      "1540/1540 [==============================] - 0s 279us/step - loss: 20.9745\n",
      "Epoch 67/200\n",
      "1540/1540 [==============================] - 0s 287us/step - loss: 21.6200\n",
      "Epoch 68/200\n",
      "1540/1540 [==============================] - 0s 291us/step - loss: 17.9678\n",
      "Epoch 69/200\n",
      "1540/1540 [==============================] - 0s 280us/step - loss: 19.3214\n",
      "Epoch 70/200\n",
      "1540/1540 [==============================] - 0s 293us/step - loss: 16.9689\n",
      "Epoch 71/200\n",
      "1540/1540 [==============================] - 0s 277us/step - loss: 21.7449\n",
      "Epoch 72/200\n",
      "1540/1540 [==============================] - 0s 276us/step - loss: 23.2213\n",
      "Epoch 73/200\n",
      "1540/1540 [==============================] - 0s 278us/step - loss: 31.3421\n",
      "Epoch 74/200\n",
      "1540/1540 [==============================] - 0s 287us/step - loss: 20.44540s - l\n",
      "Epoch 75/200\n",
      "1540/1540 [==============================] - 0s 302us/step - loss: 17.1294\n",
      "Epoch 76/200\n",
      "1540/1540 [==============================] - 0s 276us/step - loss: 17.0318\n",
      "Epoch 77/200\n",
      "1540/1540 [==============================] - 0s 280us/step - loss: 17.6334\n",
      "Epoch 78/200\n",
      "1540/1540 [==============================] - 0s 280us/step - loss: 17.0487\n",
      "Epoch 79/200\n",
      "1540/1540 [==============================] - 0s 278us/step - loss: 19.4999\n",
      "Epoch 80/200\n",
      "1540/1540 [==============================] - 0s 282us/step - loss: 17.6348\n",
      "Epoch 81/200\n",
      "1540/1540 [==============================] - 0s 280us/step - loss: 18.3405\n",
      "Epoch 82/200\n",
      "1540/1540 [==============================] - 0s 280us/step - loss: 24.0605\n",
      "Epoch 83/200\n",
      "1540/1540 [==============================] - 0s 289us/step - loss: 20.2236\n",
      "Epoch 84/200\n",
      "1540/1540 [==============================] - 1s 343us/step - loss: 16.8554\n",
      "Epoch 85/200\n",
      "1540/1540 [==============================] - 1s 368us/step - loss: 17.1222\n",
      "Epoch 86/200\n",
      "1540/1540 [==============================] - 1s 363us/step - loss: 15.9646\n",
      "Epoch 87/200\n",
      "1540/1540 [==============================] - 1s 370us/step - loss: 22.2030\n",
      "Epoch 88/200\n",
      "1540/1540 [==============================] - 0s 307us/step - loss: 17.2901\n",
      "Epoch 89/200\n",
      "1540/1540 [==============================] - 1s 352us/step - loss: 18.4225\n",
      "Epoch 90/200\n",
      "1540/1540 [==============================] - 0s 318us/step - loss: 18.4956\n",
      "Epoch 91/200\n",
      "1540/1540 [==============================] - 0s 295us/step - loss: 17.7827\n",
      "Epoch 92/200\n",
      "1540/1540 [==============================] - 0s 278us/step - loss: 17.8328\n",
      "Epoch 93/200\n",
      "1540/1540 [==============================] - 0s 285us/step - loss: 17.7920\n"
     ]
    },
    {
     "name": "stdout",
     "output_type": "stream",
     "text": [
      "Epoch 94/200\n",
      "1540/1540 [==============================] - 0s 313us/step - loss: 20.4688\n",
      "Epoch 95/200\n",
      "1540/1540 [==============================] - 0s 299us/step - loss: 18.2308\n",
      "Epoch 96/200\n",
      "1540/1540 [==============================] - 0s 298us/step - loss: 17.2099\n",
      "Epoch 97/200\n",
      "1540/1540 [==============================] - 0s 316us/step - loss: 19.67320s - l\n",
      "Epoch 98/200\n",
      "1540/1540 [==============================] - 0s 304us/step - loss: 15.9616\n",
      "Epoch 99/200\n",
      "1540/1540 [==============================] - 0s 308us/step - loss: 17.1607\n",
      "Epoch 100/200\n",
      "1540/1540 [==============================] - 0s 290us/step - loss: 18.8927\n",
      "Epoch 101/200\n",
      "1540/1540 [==============================] - 0s 310us/step - loss: 20.0993\n",
      "Epoch 102/200\n",
      "1540/1540 [==============================] - 0s 302us/step - loss: 16.0062\n",
      "Epoch 103/200\n",
      "1540/1540 [==============================] - 0s 284us/step - loss: 16.2708\n",
      "Epoch 104/200\n",
      "1540/1540 [==============================] - 0s 291us/step - loss: 23.8973\n",
      "Epoch 105/200\n",
      "1540/1540 [==============================] - 0s 284us/step - loss: 16.8675\n",
      "Epoch 106/200\n",
      "1540/1540 [==============================] - 0s 286us/step - loss: 23.1855\n",
      "Epoch 107/200\n",
      "1540/1540 [==============================] - 0s 284us/step - loss: 15.7022\n",
      "Epoch 108/200\n",
      "1540/1540 [==============================] - 0s 302us/step - loss: 17.4620\n",
      "Epoch 109/200\n",
      "1540/1540 [==============================] - 0s 302us/step - loss: 14.3852\n",
      "Epoch 110/200\n",
      "1540/1540 [==============================] - 0s 288us/step - loss: 25.0334\n",
      "Epoch 111/200\n",
      "1540/1540 [==============================] - 0s 294us/step - loss: 17.7300\n",
      "Epoch 112/200\n",
      "1540/1540 [==============================] - 0s 292us/step - loss: 15.9270\n",
      "Epoch 113/200\n",
      "1540/1540 [==============================] - 0s 287us/step - loss: 15.9809\n",
      "Epoch 114/200\n",
      "1540/1540 [==============================] - 0s 282us/step - loss: 18.0407\n",
      "Epoch 115/200\n",
      "1540/1540 [==============================] - 0s 283us/step - loss: 19.4138\n",
      "Epoch 116/200\n",
      "1540/1540 [==============================] - 0s 285us/step - loss: 19.2615\n",
      "Epoch 117/200\n",
      "1540/1540 [==============================] - 0s 302us/step - loss: 16.9586\n",
      "Epoch 118/200\n",
      "1540/1540 [==============================] - 1s 329us/step - loss: 15.1527\n",
      "Epoch 119/200\n",
      "1540/1540 [==============================] - 1s 337us/step - loss: 15.8719\n",
      "Epoch 120/200\n",
      "1540/1540 [==============================] - 1s 337us/step - loss: 15.3654\n",
      "Epoch 121/200\n",
      "1540/1540 [==============================] - ETA: 0s - loss: 15.01 - 1s 335us/step - loss: 14.9983\n",
      "Epoch 122/200\n",
      "1540/1540 [==============================] - 0s 324us/step - loss: 16.9129\n",
      "Epoch 123/200\n",
      "1540/1540 [==============================] - 0s 310us/step - loss: 18.3426\n",
      "Epoch 124/200\n",
      "1540/1540 [==============================] - 0s 289us/step - loss: 20.3734\n",
      "Epoch 125/200\n",
      "1540/1540 [==============================] - 0s 275us/step - loss: 25.0758\n",
      "Epoch 126/200\n",
      "1540/1540 [==============================] - 0s 296us/step - loss: 17.9812\n",
      "Epoch 127/200\n",
      "1540/1540 [==============================] - 0s 293us/step - loss: 20.6963\n",
      "Epoch 128/200\n",
      "1540/1540 [==============================] - 0s 287us/step - loss: 25.1003\n",
      "Epoch 129/200\n",
      "1540/1540 [==============================] - 0s 282us/step - loss: 19.9144\n",
      "Epoch 130/200\n",
      "1540/1540 [==============================] - 0s 280us/step - loss: 15.8561\n",
      "Epoch 131/200\n",
      "1540/1540 [==============================] - 0s 290us/step - loss: 14.6913\n",
      "Epoch 132/200\n",
      "1540/1540 [==============================] - 0s 294us/step - loss: 14.6772\n",
      "Epoch 133/200\n",
      "1540/1540 [==============================] - 0s 284us/step - loss: 14.9306\n",
      "Epoch 134/200\n",
      "1540/1540 [==============================] - 0s 293us/step - loss: 16.1016\n",
      "Epoch 135/200\n",
      "1540/1540 [==============================] - 0s 299us/step - loss: 14.8023\n",
      "Epoch 136/200\n",
      "1540/1540 [==============================] - 0s 280us/step - loss: 15.0232\n",
      "Epoch 137/200\n",
      "1540/1540 [==============================] - 0s 287us/step - loss: 17.7644\n",
      "Epoch 138/200\n",
      "1540/1540 [==============================] - 0s 286us/step - loss: 18.4518\n",
      "Epoch 139/200\n",
      "1540/1540 [==============================] - 0s 284us/step - loss: 23.5404\n",
      "Epoch 140/200\n",
      "1540/1540 [==============================] - 0s 281us/step - loss: 20.3674\n",
      "Epoch 141/200\n",
      "1540/1540 [==============================] - 0s 296us/step - loss: 16.1710\n",
      "Epoch 142/200\n",
      "1540/1540 [==============================] - 0s 280us/step - loss: 17.5644\n",
      "Epoch 143/200\n",
      "1540/1540 [==============================] - 0s 292us/step - loss: 20.1231\n",
      "Epoch 144/200\n",
      "1540/1540 [==============================] - 0s 284us/step - loss: 16.1593\n",
      "Epoch 145/200\n",
      "1540/1540 [==============================] - 0s 276us/step - loss: 20.6907\n",
      "Epoch 146/200\n",
      "1540/1540 [==============================] - 0s 291us/step - loss: 14.7518\n",
      "Epoch 147/200\n",
      "1540/1540 [==============================] - 0s 273us/step - loss: 14.7366\n",
      "Epoch 148/200\n",
      "1540/1540 [==============================] - 0s 274us/step - loss: 15.5996\n",
      "Epoch 149/200\n",
      "1540/1540 [==============================] - 0s 302us/step - loss: 16.1160\n",
      "Epoch 150/200\n",
      "1540/1540 [==============================] - 0s 319us/step - loss: 18.2967\n",
      "Epoch 151/200\n",
      "1540/1540 [==============================] - 0s 323us/step - loss: 16.7991\n",
      "Epoch 152/200\n",
      "1540/1540 [==============================] - 1s 360us/step - loss: 16.1696\n",
      "Epoch 153/200\n",
      "1540/1540 [==============================] - 1s 356us/step - loss: 16.1183\n",
      "Epoch 154/200\n",
      "1540/1540 [==============================] - 1s 358us/step - loss: 18.4836\n",
      "Epoch 155/200\n",
      "1540/1540 [==============================] - 1s 346us/step - loss: 17.4482\n",
      "Epoch 156/200\n",
      "1540/1540 [==============================] - 1s 334us/step - loss: 14.9215\n",
      "Epoch 157/200\n",
      "1540/1540 [==============================] - 0s 324us/step - loss: 15.6158\n",
      "Epoch 158/200\n",
      "1540/1540 [==============================] - 0s 308us/step - loss: 16.6884\n",
      "Epoch 159/200\n",
      "1540/1540 [==============================] - 0s 303us/step - loss: 19.0226\n",
      "Epoch 160/200\n",
      "1540/1540 [==============================] - 0s 279us/step - loss: 15.9066\n",
      "Epoch 161/200\n",
      "1540/1540 [==============================] - 0s 284us/step - loss: 15.8560\n",
      "Epoch 162/200\n",
      "1540/1540 [==============================] - 0s 293us/step - loss: 15.4621\n",
      "Epoch 163/200\n",
      "1540/1540 [==============================] - 0s 277us/step - loss: 16.8023\n",
      "Epoch 164/200\n",
      "1540/1540 [==============================] - 0s 291us/step - loss: 16.7271\n",
      "Epoch 165/200\n",
      "1540/1540 [==============================] - 0s 278us/step - loss: 14.7880\n",
      "Epoch 166/200\n",
      "1540/1540 [==============================] - 0s 271us/step - loss: 15.2032\n",
      "Epoch 167/200\n",
      "1540/1540 [==============================] - 0s 272us/step - loss: 15.8344\n",
      "Epoch 168/200\n",
      "1540/1540 [==============================] - 0s 281us/step - loss: 16.0012\n",
      "Epoch 169/200\n",
      "1540/1540 [==============================] - 0s 282us/step - loss: 14.9577\n",
      "Epoch 170/200\n",
      "1540/1540 [==============================] - 0s 282us/step - loss: 15.8479\n",
      "Epoch 171/200\n",
      "1540/1540 [==============================] - 0s 284us/step - loss: 15.7429\n",
      "Epoch 172/200\n",
      "1540/1540 [==============================] - 0s 288us/step - loss: 22.2141\n",
      "Epoch 173/200\n",
      "1540/1540 [==============================] - 0s 279us/step - loss: 16.8219\n",
      "Epoch 174/200\n",
      "1540/1540 [==============================] - 0s 287us/step - loss: 19.5347\n",
      "Epoch 175/200\n",
      "1540/1540 [==============================] - 0s 270us/step - loss: 17.3919\n",
      "Epoch 176/200\n",
      "1540/1540 [==============================] - 0s 276us/step - loss: 15.2487\n",
      "Epoch 177/200\n",
      "1540/1540 [==============================] - 0s 271us/step - loss: 14.4016\n",
      "Epoch 178/200\n",
      "1540/1540 [==============================] - ETA: 0s - loss: 17.37 - 0s 297us/step - loss: 17.6984\n",
      "Epoch 179/200\n",
      "1540/1540 [==============================] - 0s 286us/step - loss: 15.1262\n",
      "Epoch 180/200\n",
      "1540/1540 [==============================] - 0s 281us/step - loss: 16.6795\n",
      "Epoch 181/200\n",
      "1540/1540 [==============================] - 0s 288us/step - loss: 17.4977\n",
      "Epoch 182/200\n",
      "1540/1540 [==============================] - 0s 273us/step - loss: 16.41240s -\n",
      "Epoch 183/200\n",
      "1540/1540 [==============================] - 0s 267us/step - loss: 15.1987\n",
      "Epoch 184/200\n",
      "1540/1540 [==============================] - 0s 271us/step - loss: 19.0006\n",
      "Epoch 185/200\n",
      "1540/1540 [==============================] - 0s 287us/step - loss: 16.9044\n",
      "Epoch 186/200\n",
      "1540/1540 [==============================] - 0s 293us/step - loss: 14.02980s - los\n",
      "Epoch 187/200\n",
      "1540/1540 [==============================] - 1s 333us/step - loss: 15.2200\n",
      "Epoch 188/200\n",
      "1540/1540 [==============================] - 1s 332us/step - loss: 15.0599\n",
      "Epoch 189/200\n",
      "1540/1540 [==============================] - 1s 346us/step - loss: 15.8226\n",
      "Epoch 190/200\n",
      "1540/1540 [==============================] - 1s 341us/step - loss: 14.89500s -\n",
      "Epoch 191/200\n",
      "1540/1540 [==============================] - 1s 353us/step - loss: 17.5522\n",
      "Epoch 192/200\n",
      "1540/1540 [==============================] - 1s 341us/step - loss: 23.2220\n",
      "Epoch 193/200\n",
      "1540/1540 [==============================] - 1s 325us/step - loss: 17.1963\n",
      "Epoch 194/200\n",
      "1540/1540 [==============================] - 0s 295us/step - loss: 15.3408\n",
      "Epoch 195/200\n",
      "1540/1540 [==============================] - 0s 313us/step - loss: 16.7441\n",
      "Epoch 196/200\n",
      "1540/1540 [==============================] - 0s 289us/step - loss: 14.64920s - loss: 1\n",
      "Epoch 197/200\n",
      "1540/1540 [==============================] - 0s 288us/step - loss: 15.7591\n",
      "Epoch 198/200\n",
      "1540/1540 [==============================] - 0s 293us/step - loss: 14.1610\n",
      "Epoch 199/200\n",
      "1540/1540 [==============================] - 0s 302us/step - loss: 15.7659\n",
      "Epoch 200/200\n",
      "1540/1540 [==============================] - 0s 306us/step - loss: 14.1701\n"
     ]
    }
   ],
   "source": [
    "model.fit(X, y, epochs=200, batch_size = 32)\n",
    "logger.info('Model is trained for 200 epochs with batch size 32')"
   ]
  },
  {
   "cell_type": "markdown",
   "metadata": {},
   "source": [
    "### Test data preparation"
   ]
  },
  {
   "cell_type": "code",
   "execution_count": 156,
   "metadata": {},
   "outputs": [],
   "source": [
    "logger.info('----------TEST DATA PREDICTION---------')"
   ]
  },
  {
   "cell_type": "code",
   "execution_count": 157,
   "metadata": {},
   "outputs": [
    {
     "name": "stdout",
     "output_type": "stream",
     "text": [
      "(495, 1)\n",
      "(495, 1)\n"
     ]
    }
   ],
   "source": [
    "test= new_data[len(new_data) - len(valid) - 60:].values #(2035-435-60 = 1540)\n",
    "print(test.shape)\n",
    "test = test.reshape(-1,1)\n",
    "print(test.shape)\n",
    "\n",
    "X_test, y_test = split_sequence(test, t_steps)\n",
    "\n",
    "X_test = X_test.reshape((X_test.shape[0], X_test.shape[1], features))\n",
    "X_test.shape\n",
    "logger.info('Test data is prepared with shape %s',X_test.shape)"
   ]
  },
  {
   "cell_type": "markdown",
   "metadata": {},
   "source": [
    "### Prediction on test data"
   ]
  },
  {
   "cell_type": "code",
   "execution_count": 158,
   "metadata": {},
   "outputs": [],
   "source": [
    "predictions = model.predict(X_test)\n",
    "predictions.shape, X_test.shape\n",
    "logger.info('Stock prices for test data are predicted')"
   ]
  },
  {
   "cell_type": "markdown",
   "metadata": {},
   "source": [
    "### Visualization"
   ]
  },
  {
   "cell_type": "code",
   "execution_count": 159,
   "metadata": {},
   "outputs": [
    {
     "name": "stderr",
     "output_type": "stream",
     "text": [
      "C:\\Users\\Lenovo-Pc\\Anaconda3\\envs\\tensorflow\\lib\\site-packages\\ipykernel_launcher.py:2: SettingWithCopyWarning: \n",
      "A value is trying to be set on a copy of a slice from a DataFrame.\n",
      "Try using .loc[row_indexer,col_indexer] = value instead\n",
      "\n",
      "See the caveats in the documentation: http://pandas.pydata.org/pandas-docs/stable/indexing.html#indexing-view-versus-copy\n",
      "  \n"
     ]
    },
    {
     "data": {
      "image/png": "[encoded data removed]",
      "text/plain": [
       "<Figure size 1152x576 with 1 Axes>"
      ]
     },
     "metadata": {
      "needs_background": "light"
     },
     "output_type": "display_data"
    }
   ],
   "source": [
    "valid = new_data[1600:]\n",
    "valid['Predictions'] = predictions\n",
    "plt.figure(figsize=(16,8))\n",
    "plt.plot(valid['Close'],color ='orange',label='Real stock price')\n",
    "plt.plot(valid['Predictions'], color ='blue', label ='Predicted stock price')\n",
    "plt.title('Stock Price Prediction')\n",
    "plt.xlabel('Time')\n",
    "plt.ylabel('Stock Price')\n",
    "plt.legend()\n",
    "plt.show()"
   ]
  },
  {
   "cell_type": "code",
   "execution_count": 160,
   "metadata": {},
   "outputs": [],
   "source": [
    "logger.info('--------PERFORMANCE METRIC------')"
   ]
  },
  {
   "cell_type": "code",
   "execution_count": 161,
   "metadata": {},
   "outputs": [
    {
     "name": "stdout",
     "output_type": "stream",
     "text": [
      "7.311463281085214\n"
     ]
    }
   ],
   "source": [
    "rms=np.sqrt(np.mean(np.power((valid['Close']-valid['Predictions']),2)))\n",
    "print(rms)\n",
    "logger.info('Performance metric is RMS, RMS value:%f',rms)\n"
   ]
  },
  {
   "cell_type": "markdown",
   "metadata": {},
   "source": [
    "## Stock Prediction using Recurrent Neural Network - LSTM"
   ]
  },
  {
   "cell_type": "markdown",
   "metadata": {},
   "source": [
    "### Recuurent Neural Networks\n",
    "\n",
    "Stock prediction is a sequence prediction problem where stock prices depend on stock values from previous days too, which is a major deciding factor.\n",
    "\n",
    "In CNN models, the model doesn't consider the previous day stock prices(independent test cases), so the prediction would not be accurate.\n",
    "\n",
    "So, this time dependency can be achieved using Recurrent Neural Network(RNN) models.\n",
    "In RNN, every prediction at time t (h_t) is dependent on all previous predictions(h_t-1) and the information learned from them.\n",
    "\n",
    "#### Limitations of RNN:\n",
    "\n",
    "1. RNN can remember only short term dependencies(small duration of time)..\n",
    "\n",
    "2. When RNN has to add a new information, it transforms the complete information by applying a function. So, there is no distinction between 'important' information and 'unimportant' information.\n",
    "\n",
    "So, to overcome such shortcomings, we can use Long Short-Term Memory Networks."
   ]
  },
  {
   "cell_type": "markdown",
   "metadata": {},
   "source": [
    "## Long Short-Term Memory Networks"
   ]
  },
  {
   "cell_type": "markdown",
   "metadata": {},
   "source": [
    "LSTM is a tweaked version of RNN, which can selectively forget or remember information(longer period of time).\n",
    "When LSTM needs to add information, it makes small modifications rather than transforming the whole information unlike RNN.\n",
    "In LSTM, information flows through a mechanism called cell states.\n",
    "\n",
    " The stock price of today will depend upon:\n",
    "\n",
    "1. The trend that the stock has been following in the previous days, maybe a downtrend or an uptrend.\n",
    "2. The price of the stock on the previous day, because many traders compare the stock’s previous day price before buying it.\n",
    "3. The factors that can affect the price of the stock for today.\n",
    "\n",
    "Generalizing the above factors in LSTM terms, \n",
    "1. The previous cell state (i.e. the information that was present in the memory after the previous time step).\n",
    "2. The previous hidden state (i.e. this is the same as the output of the previous cell).\n",
    "3. The input at the current time step (i.e. the new information that is being fed in at that moment).\n",
    "\n",
    "\n",
    "A typical LSTM network is comprised of different memory blocks called cells.  There are two states that are being transferred to the next cell.\n",
    "- the cell state\n",
    "- the hidden state. \n",
    "\n",
    "The memory blocks are responsible for remembering things and manipulations to this memory is done through three major mechanisms, called gates.There are 3 gates:\n",
    "\n",
    "#### 1) Forget gate\n",
    "       A forget gate is responsible for removing information from the cell state. The information that is no longer required for the LSTM to understand things or the information that is of less importance is removed.\n",
    "       \n",
    "#### 2) Input gate\n",
    "     The input gate is responsible for the addition of information to the cell state.\n",
    "     \n",
    "#### 3) Output gate\n",
    "      The job of selecting useful information from the current cell state and showing it out as an output is done via the output gate. "
   ]
  },
  {
   "cell_type": "markdown",
   "metadata": {},
   "source": [
    "### Importing required libraries"
   ]
  },
  {
   "cell_type": "code",
   "execution_count": 162,
   "metadata": {},
   "outputs": [],
   "source": [
    "from keras.models import Sequential\n",
    "from keras.layers import Dense, Dropout, LSTM"
   ]
  },
  {
   "cell_type": "code",
   "execution_count": 163,
   "metadata": {},
   "outputs": [],
   "source": [
    "logger.info('---------STOCK PREDICTION USING LONG SHORT-TERM MEMORY NETWORK (RNN)-----------')"
   ]
  },
  {
   "cell_type": "markdown",
   "metadata": {},
   "source": [
    "### Reading dataset with Exception Handling"
   ]
  },
  {
   "cell_type": "code",
   "execution_count": 164,
   "metadata": {},
   "outputs": [
    {
     "name": "stdout",
     "output_type": "stream",
     "text": [
      "         Date    Open    High     Low    Last   Close  Total Trade Quantity  \\\n",
      "0  2018-09-28  234.05  235.95  230.20  233.50  233.75               3069914   \n",
      "1  2018-09-27  234.55  236.80  231.10  233.80  233.25               5082859   \n",
      "2  2018-09-26  240.00  240.00  232.50  235.00  234.25               2240909   \n",
      "3  2018-09-25  233.30  236.75  232.00  236.25  236.10               2349368   \n",
      "4  2018-09-24  233.55  239.20  230.75  234.00  233.30               3423509   \n",
      "\n",
      "   Turnover (Lacs)  \n",
      "0          7162.35  \n",
      "1         11859.95  \n",
      "2          5248.60  \n",
      "3          5503.90  \n",
      "4          7999.55  \n"
     ]
    }
   ],
   "source": [
    "try:\n",
    "    df = pd.read_csv('NSE-TATAGLOBAL.csv')\n",
    "    print(df.head())\n",
    "    logger.info('Dataset is read into dataframe')\n",
    "    \n",
    "except IOError as e:\n",
    "    logger.info('File cannot be read')\n",
    "    logger.info(e)"
   ]
  },
  {
   "cell_type": "markdown",
   "metadata": {},
   "source": [
    "### Creating new dataframe with only Date and Close features"
   ]
  },
  {
   "cell_type": "code",
   "execution_count": 165,
   "metadata": {},
   "outputs": [],
   "source": [
    "data = df.sort_index(ascending=True, axis=0)\n",
    "new_data = pd.DataFrame(index=range(0,len(df)),columns=['Date', 'Close'])\n",
    "for i in range(0,len(data)):\n",
    "    new_data['Date'][i] = data['Date'][i]\n",
    "    new_data['Close'][i] = data['Close'][i]\n",
    "    \n",
    "new_data.index = new_data.Date\n",
    "new_data.drop('Date', axis=1, inplace=True)\n",
    "\n",
    "dataset = new_data.values\n",
    "\n"
   ]
  },
  {
   "cell_type": "markdown",
   "metadata": {},
   "source": [
    "### Splitting into train and valid test"
   ]
  },
  {
   "cell_type": "code",
   "execution_count": 166,
   "metadata": {},
   "outputs": [
    {
     "name": "stdout",
     "output_type": "stream",
     "text": [
      "(987, 1) (1048, 1)\n"
     ]
    }
   ],
   "source": [
    "train = dataset[0:987,:]\n",
    "valid = dataset[987:,:]\n",
    "print(train.shape, valid.shape)"
   ]
  },
  {
   "cell_type": "markdown",
   "metadata": {},
   "source": [
    "### Data Normalization"
   ]
  },
  {
   "cell_type": "code",
   "execution_count": 167,
   "metadata": {},
   "outputs": [
    {
     "name": "stderr",
     "output_type": "stream",
     "text": [
      "C:\\Users\\Lenovo-Pc\\Anaconda3\\envs\\tensorflow\\lib\\site-packages\\sklearn\\utils\\validation.py:595: DataConversionWarning: Data with input dtype object was converted to float64 by MinMaxScaler.\n",
      "  warnings.warn(msg, DataConversionWarning)\n"
     ]
    },
    {
     "data": {
      "text/plain": [
       "array([[0.62418301],\n",
       "       [0.62214052],\n",
       "       [0.62622549],\n",
       "       ...,\n",
       "       [0.1621732 ],\n",
       "       [0.16319444],\n",
       "       [0.16584967]])"
      ]
     },
     "execution_count": 167,
     "metadata": {},
     "output_type": "execute_result"
    }
   ],
   "source": [
    "logger.info('------DATA NORMALIZATION-------')\n",
    "scaler = MinMaxScaler(feature_range=(0, 1))\n",
    "scaled_data = scaler.fit_transform(dataset)\n",
    "scaled_data"
   ]
  },
  {
   "cell_type": "code",
   "execution_count": 168,
   "metadata": {},
   "outputs": [
    {
     "data": {
      "text/plain": [
       "(2035, 1)"
      ]
     },
     "execution_count": 168,
     "metadata": {},
     "output_type": "execute_result"
    }
   ],
   "source": [
    "scaled_data.shape"
   ]
  },
  {
   "cell_type": "markdown",
   "metadata": {},
   "source": [
    "### Data Preparation"
   ]
  },
  {
   "cell_type": "markdown",
   "metadata": {},
   "source": [
    "The input to every LSTM layer must be three-dimensional.\n",
    "\n",
    "The three dimensions of this input are:\n",
    "\n",
    "Samples - One sequence is one sample. A batch is comprised of one or more samples.\n",
    "\n",
    "Time Steps - One time step is one point of observation in the sample.(timesteps = 60)\n",
    "\n",
    "Features - One feature is one observation at a time step(features = 1)"
   ]
  },
  {
   "cell_type": "code",
   "execution_count": 169,
   "metadata": {},
   "outputs": [],
   "source": [
    "logger.info('------DATA PREPARATION-------')"
   ]
  },
  {
   "cell_type": "markdown",
   "metadata": {},
   "source": [
    "#### Splitting the data for 60 timesteps in one sample"
   ]
  },
  {
   "cell_type": "code",
   "execution_count": 170,
   "metadata": {},
   "outputs": [
    {
     "name": "stdout",
     "output_type": "stream",
     "text": [
      "927 927\n"
     ]
    }
   ],
   "source": [
    "x_train, y_train = [], []\n",
    "for i in range(60,len(train)):  #927 iterations(987-60)\n",
    "    #print(scaled_data[i-60:i,0])\n",
    "    #print(scaled_data[i,0])\n",
    "    x_train.append(scaled_data[i-60:i,0])\n",
    "    y_train.append(scaled_data[i,0])\n",
    "    \n",
    "print(len(x_train), len(y_train))"
   ]
  },
  {
   "cell_type": "markdown",
   "metadata": {},
   "source": [
    "#### Reshaping the array into 3-dimensional array\n",
    "\n",
    "The reshape() function on the NumPy array to reshape this two-dimensional array\n",
    "into a three-dimensional array with 927 sample, 60 time steps, and 1 feature at each time step."
   ]
  },
  {
   "cell_type": "code",
   "execution_count": 171,
   "metadata": {},
   "outputs": [
    {
     "name": "stdout",
     "output_type": "stream",
     "text": [
      "(927, 60)\n",
      "(927, 60, 1)\n"
     ]
    }
   ],
   "source": [
    "x_train, y_train = np.array(x_train), np.array(y_train)\n",
    "print(x_train.shape)\n",
    "x_train = np.reshape(x_train, (x_train.shape[0],x_train.shape[1],1))\n",
    "print(x_train.shape)"
   ]
  },
  {
   "cell_type": "markdown",
   "metadata": {},
   "source": [
    "#### Creation of LSTM network\n"
   ]
  },
  {
   "cell_type": "code",
   "execution_count": 172,
   "metadata": {},
   "outputs": [],
   "source": [
    "logger.info('-------LSTM NETWORK CREATION--------')"
   ]
  },
  {
   "cell_type": "code",
   "execution_count": 173,
   "metadata": {},
   "outputs": [],
   "source": [
    "model = Sequential()\n",
    "model.add(LSTM(units=50, return_sequences=True, input_shape=(x_train.shape[1],1)))\n",
    "model.add(Dropout(0.2))\n",
    "model.add(LSTM(units = 50))\n",
    "model.add(Dropout(0.2))\n",
    "model.add(Dense(1))\n",
    "\n",
    "logger.info('LSTM network constructed with 2 LSTM layers, 2 Dropout layers, 1 Dense layer')"
   ]
  },
  {
   "cell_type": "markdown",
   "metadata": {},
   "source": [
    "#### LSTM Layer \n",
    " Adds a LSTM later with 50 memory units(cells).\n",
    " \n",
    " return sequences - output hidden state values for all timesteps instead of the last timestep alone.\n",
    "\n",
    "#### Dropout layer\n",
    "Drops 20% of neurons to prevent over-fitting of data.\n",
    "\n",
    "#### Dense layer\n",
    "This is a core layer that implements the operation: output = activation(dot(input, kernel) + bias) where activation is the \n",
    "element-wise activation function passed as the activation argument, kernel is a weights matrix\n",
    "created by the layer, and bias is a bias vector created by the layer"
   ]
  },
  {
   "cell_type": "markdown",
   "metadata": {},
   "source": [
    "#### Compilation \n",
    "Configuring the learning process of the model with loss function and optimizer function.\n",
    "\n",
    "Loss function - Mean squared error\n",
    "\n",
    "Optimizer     - Adam"
   ]
  },
  {
   "cell_type": "code",
   "execution_count": 174,
   "metadata": {},
   "outputs": [],
   "source": [
    "logger.info('------MODEL OPTIMISATION-------')\n",
    "\n",
    "model.compile(loss='mean_squared_error', optimizer='adam')\n",
    "\n",
    "logger.info('Optimisation function is ADAM, loss function is Mean squared error')"
   ]
  },
  {
   "cell_type": "code",
   "execution_count": 175,
   "metadata": {},
   "outputs": [
    {
     "name": "stdout",
     "output_type": "stream",
     "text": [
      "Epoch 1/100\n",
      "927/927 [==============================] - 7s 7ms/step - loss: 0.0331\n",
      "Epoch 2/100\n",
      "927/927 [==============================] - 4s 4ms/step - loss: 0.0036\n",
      "Epoch 3/100\n",
      "927/927 [==============================] - 4s 4ms/step - loss: 0.0030\n",
      "Epoch 4/100\n",
      "927/927 [==============================] - 3s 4ms/step - loss: 0.0029\n",
      "Epoch 5/100\n",
      "927/927 [==============================] - 3s 4ms/step - loss: 0.0029\n",
      "Epoch 6/100\n",
      "927/927 [==============================] - 4s 4ms/step - loss: 0.0027\n",
      "Epoch 7/100\n",
      "927/927 [==============================] - 3s 4ms/step - loss: 0.0027\n",
      "Epoch 8/100\n",
      "927/927 [==============================] - 3s 4ms/step - loss: 0.0028\n",
      "Epoch 9/100\n",
      "927/927 [==============================] - 3s 4ms/step - loss: 0.0023\n",
      "Epoch 10/100\n",
      "927/927 [==============================] - 4s 4ms/step - loss: 0.0025\n",
      "Epoch 11/100\n",
      "927/927 [==============================] - 4s 4ms/step - loss: 0.0023\n",
      "Epoch 12/100\n",
      "927/927 [==============================] - 3s 4ms/step - loss: 0.0025\n",
      "Epoch 13/100\n",
      "927/927 [==============================] - 3s 4ms/step - loss: 0.0024\n",
      "Epoch 14/100\n",
      "927/927 [==============================] - 3s 4ms/step - loss: 0.0024\n",
      "Epoch 15/100\n",
      "927/927 [==============================] - 4s 4ms/step - loss: 0.0021\n",
      "Epoch 16/100\n",
      "927/927 [==============================] - 3s 4ms/step - loss: 0.0022\n",
      "Epoch 17/100\n",
      "927/927 [==============================] - 3s 4ms/step - loss: 0.0022\n",
      "Epoch 18/100\n",
      "927/927 [==============================] - 3s 4ms/step - loss: 0.0021\n",
      "Epoch 19/100\n",
      "927/927 [==============================] - 4s 4ms/step - loss: 0.0023\n",
      "Epoch 20/100\n",
      "927/927 [==============================] - 4s 4ms/step - loss: 0.0020\n",
      "Epoch 21/100\n",
      "927/927 [==============================] - 3s 4ms/step - loss: 0.0022\n",
      "Epoch 22/100\n",
      "927/927 [==============================] - 3s 4ms/step - loss: 0.0021\n",
      "Epoch 23/100\n",
      "927/927 [==============================] - 3s 4ms/step - loss: 0.0019\n",
      "Epoch 24/100\n",
      "927/927 [==============================] - 4s 4ms/step - loss: 0.0020\n",
      "Epoch 25/100\n",
      "927/927 [==============================] - 4s 4ms/step - loss: 0.0019\n",
      "Epoch 26/100\n",
      "927/927 [==============================] - 3s 4ms/step - loss: 0.0019\n",
      "Epoch 27/100\n",
      "927/927 [==============================] - 3s 4ms/step - loss: 0.0016\n",
      "Epoch 28/100\n",
      "927/927 [==============================] - 4s 4ms/step - loss: 0.0018\n",
      "Epoch 29/100\n",
      "927/927 [==============================] - 4s 4ms/step - loss: 0.0017\n",
      "Epoch 30/100\n",
      "927/927 [==============================] - 3s 4ms/step - loss: 0.0021\n",
      "Epoch 31/100\n",
      "927/927 [==============================] - 3s 4ms/step - loss: 0.0017\n",
      "Epoch 32/100\n",
      "927/927 [==============================] - 3s 4ms/step - loss: 0.0016\n",
      "Epoch 33/100\n",
      "927/927 [==============================] - 3s 4ms/step - loss: 0.0017\n",
      "Epoch 34/100\n",
      "927/927 [==============================] - 4s 4ms/step - loss: 0.0016\n",
      "Epoch 35/100\n",
      "927/927 [==============================] - 3s 4ms/step - loss: 0.0017\n",
      "Epoch 36/100\n",
      "927/927 [==============================] - 3s 4ms/step - loss: 0.0016\n",
      "Epoch 37/100\n",
      "927/927 [==============================] - 4s 4ms/step - loss: 0.0015\n",
      "Epoch 38/100\n",
      "927/927 [==============================] - 4s 4ms/step - loss: 0.0016\n",
      "Epoch 39/100\n",
      "927/927 [==============================] - 3s 4ms/step - loss: 0.0017\n",
      "Epoch 40/100\n",
      "927/927 [==============================] - 3s 4ms/step - loss: 0.0015\n",
      "Epoch 41/100\n",
      "927/927 [==============================] - 3s 4ms/step - loss: 0.0016\n",
      "Epoch 42/100\n",
      "927/927 [==============================] - 3s 4ms/step - loss: 0.0017\n",
      "Epoch 43/100\n",
      "927/927 [==============================] - 4s 4ms/step - loss: 0.0013\n",
      "Epoch 44/100\n",
      "927/927 [==============================] - 3s 4ms/step - loss: 0.0015\n",
      "Epoch 45/100\n",
      "927/927 [==============================] - 4s 4ms/step - loss: 0.0013\n",
      "Epoch 46/100\n",
      "927/927 [==============================] - 3s 4ms/step - loss: 0.0014\n",
      "Epoch 47/100\n",
      "927/927 [==============================] - 3s 4ms/step - loss: 0.0014\n",
      "Epoch 48/100\n",
      "927/927 [==============================] - 3s 4ms/step - loss: 0.0014\n",
      "Epoch 49/100\n",
      "927/927 [==============================] - 3s 4ms/step - loss: 0.0013\n",
      "Epoch 50/100\n",
      "927/927 [==============================] - 3s 4ms/step - loss: 0.0015\n",
      "Epoch 51/100\n",
      "927/927 [==============================] - 3s 4ms/step - loss: 0.0012\n",
      "Epoch 52/100\n",
      "927/927 [==============================] - 4s 4ms/step - loss: 0.0013\n",
      "Epoch 53/100\n",
      "927/927 [==============================] - 3s 4ms/step - loss: 0.0013\n",
      "Epoch 54/100\n",
      "927/927 [==============================] - 4s 4ms/step - loss: 0.0013\n",
      "Epoch 55/100\n",
      "927/927 [==============================] - 4s 4ms/step - loss: 0.0014\n",
      "Epoch 56/100\n",
      "927/927 [==============================] - 3s 4ms/step - loss: 0.0014\n",
      "Epoch 57/100\n",
      "927/927 [==============================] - 4s 4ms/step - loss: 0.0014\n",
      "Epoch 58/100\n",
      "927/927 [==============================] - 3s 4ms/step - loss: 0.0015\n",
      "Epoch 59/100\n",
      "927/927 [==============================] - 3s 4ms/step - loss: 0.0013\n",
      "Epoch 60/100\n",
      "927/927 [==============================] - 3s 4ms/step - loss: 0.0012\n",
      "Epoch 61/100\n",
      "927/927 [==============================] - 3s 4ms/step - loss: 0.0012\n",
      "Epoch 62/100\n",
      "927/927 [==============================] - 4s 4ms/step - loss: 0.0012\n",
      "Epoch 63/100\n",
      "927/927 [==============================] - 3s 4ms/step - loss: 0.0012\n",
      "Epoch 64/100\n",
      "927/927 [==============================] - 3s 4ms/step - loss: 0.0013\n",
      "Epoch 65/100\n",
      "927/927 [==============================] - 3s 4ms/step - loss: 0.0012\n",
      "Epoch 66/100\n",
      "927/927 [==============================] - 4s 4ms/step - loss: 0.0015\n",
      "Epoch 67/100\n",
      "927/927 [==============================] - 4s 4ms/step - loss: 0.0013\n",
      "Epoch 68/100\n",
      "927/927 [==============================] - 3s 4ms/step - loss: 0.0010\n",
      "Epoch 69/100\n",
      "927/927 [==============================] - 3s 3ms/step - loss: 0.0011\n",
      "Epoch 70/100\n",
      "927/927 [==============================] - 3s 4ms/step - loss: 0.0012\n",
      "Epoch 71/100\n",
      "927/927 [==============================] - 4s 4ms/step - loss: 0.0010\n",
      "Epoch 72/100\n",
      "927/927 [==============================] - 3s 4ms/step - loss: 0.0011\n",
      "Epoch 73/100\n",
      "927/927 [==============================] - 3s 3ms/step - loss: 0.0010\n",
      "Epoch 74/100\n",
      "927/927 [==============================] - 3s 3ms/step - loss: 0.0012\n",
      "Epoch 75/100\n",
      "927/927 [==============================] - 4s 4ms/step - loss: 0.0013\n",
      "Epoch 76/100\n",
      "927/927 [==============================] - 4s 4ms/step - loss: 0.0011\n",
      "Epoch 77/100\n",
      "927/927 [==============================] - 3s 3ms/step - loss: 0.0012\n",
      "Epoch 78/100\n",
      "927/927 [==============================] - 3s 4ms/step - loss: 0.0012\n",
      "Epoch 79/100\n",
      "927/927 [==============================] - 3s 4ms/step - loss: 0.0010\n",
      "Epoch 80/100\n",
      "927/927 [==============================] - 4s 4ms/step - loss: 0.0011\n",
      "Epoch 81/100\n",
      "927/927 [==============================] - 4s 4ms/step - loss: 0.0011\n",
      "Epoch 82/100\n",
      "927/927 [==============================] - 3s 4ms/step - loss: 0.0011\n",
      "Epoch 83/100\n",
      "927/927 [==============================] - 3s 4ms/step - loss: 0.0011\n",
      "Epoch 84/100\n",
      "927/927 [==============================] - 3s 4ms/step - loss: 0.0012\n",
      "Epoch 85/100\n",
      "927/927 [==============================] - 3s 4ms/step - loss: 0.0012\n",
      "Epoch 86/100\n",
      "927/927 [==============================] - 3s 3ms/step - loss: 9.6632e-04\n",
      "Epoch 87/100\n",
      "927/927 [==============================] - 3s 4ms/step - loss: 9.8361e-04\n",
      "Epoch 88/100\n",
      "927/927 [==============================] - 3s 4ms/step - loss: 9.5009e-04\n",
      "Epoch 89/100\n",
      "927/927 [==============================] - 4s 4ms/step - loss: 0.0010\n",
      "Epoch 90/100\n",
      "927/927 [==============================] - 4s 4ms/step - loss: 9.7626e-04\n",
      "Epoch 91/100\n",
      "927/927 [==============================] - 3s 4ms/step - loss: 0.0011\n",
      "Epoch 92/100\n",
      "927/927 [==============================] - 3s 4ms/step - loss: 9.8348e-04\n",
      "Epoch 93/100\n",
      "927/927 [==============================] - 3s 4ms/step - loss: 9.1312e-04\n",
      "Epoch 94/100\n",
      "927/927 [==============================] - 4s 4ms/step - loss: 9.3477e-04\n",
      "Epoch 95/100\n",
      "927/927 [==============================] - 3s 4ms/step - loss: 9.2377e-04\n",
      "Epoch 96/100\n",
      "927/927 [==============================] - 3s 3ms/step - loss: 9.8202e-04\n",
      "Epoch 97/100\n",
      "927/927 [==============================] - 3s 4ms/step - loss: 9.5608e-04\n",
      "Epoch 98/100\n",
      "927/927 [==============================] - 4s 4ms/step - loss: 9.3246e-04\n",
      "Epoch 99/100\n",
      "927/927 [==============================] - 4s 4ms/step - loss: 8.2771e-04\n",
      "Epoch 100/100\n",
      "927/927 [==============================] - 3s 4ms/step - loss: 7.5001e-04\n"
     ]
    },
    {
     "data": {
      "text/plain": [
       "<keras.callbacks.History at 0x245ec0edd68>"
      ]
     },
     "execution_count": 175,
     "metadata": {},
     "output_type": "execute_result"
    }
   ],
   "source": [
    "logger.info('-----MODEL BUILDING------')\n",
    "model.fit(x_train, y_train, epochs=100, batch_size=32)\n"
   ]
  },
  {
   "cell_type": "markdown",
   "metadata": {},
   "source": [
    "### Test data preparation"
   ]
  },
  {
   "cell_type": "code",
   "execution_count": 176,
   "metadata": {},
   "outputs": [
    {
     "name": "stdout",
     "output_type": "stream",
     "text": [
      "2035 1048\n",
      "(1108, 1)\n",
      "(1108, 1)\n",
      "1108\n"
     ]
    }
   ],
   "source": [
    "logger.info('----TEST DATA PREPARATION-----')\n",
    "print(len(new_data),len(valid))\n",
    "#To know from where the test data starts(from 927:)\n",
    "inputs = new_data[len(new_data) - len(valid) - 60:].values #2035-1048-60 = 927\n",
    "print(inputs.shape)\n",
    "inputs = inputs.reshape(-1,1)\n",
    "print(inputs.shape)\n",
    "inputs  = scaler.transform(inputs)\n",
    "print(inputs.shape[0])"
   ]
  },
  {
   "cell_type": "markdown",
   "metadata": {},
   "source": [
    "#### Reshaping test data into 3-dimensional array with 1048 samples, 60 timesteps, 1 feature"
   ]
  },
  {
   "cell_type": "code",
   "execution_count": 177,
   "metadata": {},
   "outputs": [
    {
     "name": "stdout",
     "output_type": "stream",
     "text": [
      "(1048, 60)\n",
      "(1048, 60, 1)\n"
     ]
    }
   ],
   "source": [
    "X_test = []\n",
    "for i in range(60,inputs.shape[0]):\n",
    "    X_test.append(inputs[i-60:i,0])\n",
    "X_test = np.array(X_test)\n",
    "print(X_test.shape)\n",
    "X_test = np.reshape(X_test, (X_test.shape[0],X_test.shape[1],1))\n",
    "print(X_test.shape)"
   ]
  },
  {
   "cell_type": "markdown",
   "metadata": {},
   "source": [
    "#### Prediction for test data"
   ]
  },
  {
   "cell_type": "code",
   "execution_count": 178,
   "metadata": {},
   "outputs": [
    {
     "name": "stdout",
     "output_type": "stream",
     "text": [
      "[[0.3199916 ]\n",
      " [0.31864038]\n",
      " [0.31808323]\n",
      " ...\n",
      " [0.15303828]\n",
      " [0.15562527]\n",
      " [0.15886052]]\n"
     ]
    }
   ],
   "source": [
    "logger.info('------TEST DATA PREDICTION-------')\n",
    "closing_price = model.predict(X_test)\n",
    "print(closing_price)"
   ]
  },
  {
   "cell_type": "markdown",
   "metadata": {},
   "source": [
    "#### Inversing the data to original form"
   ]
  },
  {
   "cell_type": "code",
   "execution_count": 179,
   "metadata": {},
   "outputs": [
    {
     "name": "stdout",
     "output_type": "stream",
     "text": [
      "[[159.28394 ]\n",
      " [158.95316 ]\n",
      " [158.81677 ]\n",
      " ...\n",
      " [118.413765]\n",
      " [119.047066]\n",
      " [119.83905 ]]\n"
     ]
    }
   ],
   "source": [
    "closing_price = scaler.inverse_transform(closing_price)\n",
    "print(closing_price)"
   ]
  },
  {
   "cell_type": "markdown",
   "metadata": {},
   "source": [
    "### Visualization of predicted data"
   ]
  },
  {
   "cell_type": "code",
   "execution_count": 180,
   "metadata": {},
   "outputs": [
    {
     "name": "stderr",
     "output_type": "stream",
     "text": [
      "C:\\Users\\Lenovo-Pc\\Anaconda3\\envs\\tensorflow\\lib\\site-packages\\ipykernel_launcher.py:3: SettingWithCopyWarning: \n",
      "A value is trying to be set on a copy of a slice from a DataFrame.\n",
      "Try using .loc[row_indexer,col_indexer] = value instead\n",
      "\n",
      "See the caveats in the documentation: http://pandas.pydata.org/pandas-docs/stable/indexing.html#indexing-view-versus-copy\n",
      "  This is separate from the ipykernel package so we can avoid doing imports until\n"
     ]
    },
    {
     "data": {
      "image/png": "[encoded data removed]",
      "text/plain": [
       "<Figure size 1152x576 with 1 Axes>"
      ]
     },
     "metadata": {
      "needs_background": "light"
     },
     "output_type": "display_data"
    }
   ],
   "source": [
    "valid = new_data[987:]\n",
    "\n",
    "valid['Predictions'] = closing_price\n",
    "plt.figure(figsize=(16,8))\n",
    "plt.plot(valid['Close'],color ='orange',label='Real stock price')\n",
    "plt.plot(valid['Predictions'], color ='blue', label ='Predicted stock price')\n",
    "plt.title('Stock Price Prediction')\n",
    "plt.xlabel('Time')\n",
    "plt.ylabel('Stock Price')\n",
    "plt.legend()\n",
    "plt.show()"
   ]
  },
  {
   "cell_type": "markdown",
   "metadata": {},
   "source": [
    "### RMS value"
   ]
  },
  {
   "cell_type": "code",
   "execution_count": 181,
   "metadata": {},
   "outputs": [
    {
     "data": {
      "text/plain": [
       "3.824134092258396"
      ]
     },
     "execution_count": 181,
     "metadata": {},
     "output_type": "execute_result"
    }
   ],
   "source": [
    "logger.info('-------PERFORMANCE METRIC FOR LSTM-------')\n",
    "rms=np.sqrt(np.mean(np.power((valid['Close']-valid['Predictions']),2)))\n",
    "\n",
    "logger.info('RMS:%f'%rms)\n",
    "rms"
   ]
  },
  {
   "cell_type": "markdown",
   "metadata": {},
   "source": [
    "### Comparison of CNN over LSTM model for stock market"
   ]
  },
  {
   "cell_type": "markdown",
   "metadata": {},
   "source": [
    "The RMS value for CNN model is 7.3\n",
    "\n",
    "The RMS value for LSTM model is 3.8\n",
    "\n",
    "The LSTM model performs better than CNN with RMS as performance metrics and also due to its ability to \n",
    "have long term dependencies across inputs."
   ]
  },
  {
   "cell_type": "markdown",
   "metadata": {},
   "source": [
    "## Conclusion:\n",
    "\n",
    "LSTM is a better model than CNN for stock market prediction."
   ]
  }
 ],
 "metadata": {
  "kernelspec": {
   "display_name": "Python 3",
   "language": "python",
   "name": "python3"
  },
  "language_info": {
   "codemirror_mode": {
    "name": "ipython",
    "version": 3
   },
   "file_extension": ".py",
   "mimetype": "text/x-python",
   "name": "python",
   "nbconvert_exporter": "python",
   "pygments_lexer": "ipython3",
   "version": "3.7.0"
  }
 },
 "nbformat": 4,
 "nbformat_minor": 2
}
